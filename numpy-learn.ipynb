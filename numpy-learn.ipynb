{
 "cells": [
  {
   "cell_type": "markdown",
   "metadata": {},
   "source": [
    "# NumPy Practice Exercises\n",
    "\n",
    "Complete the following exercises to practice NumPy operations. Write your code in the empty code cells below each instruction."
   ]
  },
  {
   "cell_type": "markdown",
   "metadata": {},
   "source": [
    "### 1. Basic Array Creation\n",
    "- Import NumPy as np\n",
    "- Create a 1D array [1,2,3] and set its type to 'int32'\n",
    "- Create a 2D array [[9.0,8.0,7.0],[6.0,5.0,4.0]]"
   ]
  },
  {
   "cell_type": "code",
   "execution_count": 1,
   "metadata": {},
   "outputs": [],
   "source": [
    "import numpy as np"
   ]
  },
  {
   "cell_type": "code",
   "execution_count": 2,
   "metadata": {},
   "outputs": [
    {
     "name": "stdout",
     "output_type": "stream",
     "text": [
      "[1 2 3]\n"
     ]
    }
   ],
   "source": [
    "arr=np.array([1,2,3], dtype='int32')\n",
    "print(arr)"
   ]
  },
  {
   "cell_type": "code",
   "execution_count": 3,
   "metadata": {},
   "outputs": [
    {
     "name": "stdout",
     "output_type": "stream",
     "text": [
      "[[9. 8. 7.]\n",
      " [6. 5. 4.]]\n"
     ]
    }
   ],
   "source": [
    "arr=np.array([[9.0,8.0,7.0],[6.0,5.0,4.0]])\n",
    "print(arr)"
   ]
  },
  {
   "cell_type": "markdown",
   "metadata": {},
   "source": [
    "### 2. Array Information\n",
    "For each array created above:\n",
    "- Get the dimension (ndim)\n",
    "- Get the shape\n",
    "- Get the data type\n",
    "- Get the size (number of elements)\n",
    "- Get the itemsize (size in bytes of each element)\n",
    "- Get the total size in bytes (nbytes)"
   ]
  },
  {
   "cell_type": "code",
   "execution_count": 4,
   "metadata": {},
   "outputs": [
    {
     "data": {
      "text/plain": [
       "2"
      ]
     },
     "execution_count": 4,
     "metadata": {},
     "output_type": "execute_result"
    }
   ],
   "source": [
    "arr.ndim"
   ]
  },
  {
   "cell_type": "code",
   "execution_count": 5,
   "metadata": {},
   "outputs": [
    {
     "data": {
      "text/plain": [
       "(2, 3)"
      ]
     },
     "execution_count": 5,
     "metadata": {},
     "output_type": "execute_result"
    }
   ],
   "source": [
    "arr.shape"
   ]
  },
  {
   "cell_type": "code",
   "execution_count": 6,
   "metadata": {},
   "outputs": [
    {
     "data": {
      "text/plain": [
       "dtype('float64')"
      ]
     },
     "execution_count": 6,
     "metadata": {},
     "output_type": "execute_result"
    }
   ],
   "source": [
    "arr.dtype"
   ]
  },
  {
   "cell_type": "code",
   "execution_count": 7,
   "metadata": {},
   "outputs": [
    {
     "data": {
      "text/plain": [
       "6"
      ]
     },
     "execution_count": 7,
     "metadata": {},
     "output_type": "execute_result"
    }
   ],
   "source": [
    "arr.size"
   ]
  },
  {
   "cell_type": "code",
   "execution_count": 8,
   "metadata": {},
   "outputs": [
    {
     "data": {
      "text/plain": [
       "8"
      ]
     },
     "execution_count": 8,
     "metadata": {},
     "output_type": "execute_result"
    }
   ],
   "source": [
    "arr.itemsize"
   ]
  },
  {
   "cell_type": "code",
   "execution_count": 9,
   "metadata": {},
   "outputs": [
    {
     "data": {
      "text/plain": [
       "48"
      ]
     },
     "execution_count": 9,
     "metadata": {},
     "output_type": "execute_result"
    }
   ],
   "source": [
    "arr.nbytes"
   ]
  },
  {
   "cell_type": "markdown",
   "metadata": {},
   "source": [
    "### 3. Array Indexing and Slicing\n",
    "Create this 2D array: [[1,2,3,4,5,6,7],[8,9,10,11,12,13,14]] and then:\n",
    "- Get element at position [1,5] (row 1, column 5)\n",
    "- Get entire first row\n",
    "- Get entire third column\n",
    "- Get elements from first row with step size 2\n",
    "- Change value at [1,5] to 20\n",
    "- Change entire third column to [1,2]"
   ]
  },
  {
   "cell_type": "code",
   "execution_count": 11,
   "metadata": {},
   "outputs": [
    {
     "name": "stdout",
     "output_type": "stream",
     "text": [
      "[[ 1  2  3  4  5  6  7]\n",
      " [ 8  9 10 11 12 13 14]]\n",
      "13\n",
      "[1 2 3 4 5 6 7]\n",
      "[ 3 10]\n",
      "[1 3 5 7]\n",
      "[[ 1  2  3  4  5  6  7]\n",
      " [ 8  9 10 11 12 20 14]]\n",
      "[[ 1  2  1  4  5  6  7]\n",
      " [ 8  9  2 11 12 20 14]]\n"
     ]
    }
   ],
   "source": [
    "arr=np.array([[1,2,3,4,5,6,7],[8,9,10,11,12,13,14]])\n",
    "print(arr)\n",
    "\n",
    "print(arr[1,5])\n",
    "\n",
    "print(arr[0,:])\n",
    "\n",
    "print(arr[:,2])\n",
    "\n",
    "print(arr[0,::2])\n",
    "\n",
    "arr[1,5]=20\n",
    "print(arr)\n",
    "\n",
    "arr[:,2]=[1,2]\n",
    "print(arr)"
   ]
  },
  {
   "cell_type": "markdown",
   "metadata": {},
   "source": [
    "### 4. Array Initialization\n",
    "Create the following arrays:\n",
    "- A 2x3 array of zeros\n",
    "- A 4x2x2 array of ones with type 'int32'\n",
    "- A 2x2 array filled with the number 99\n",
    "- A 4x2 array of random decimal numbers between 0 and 1\n",
    "- A 3x3 array of random integers between -4 and 8\n",
    "- A 5x5 identity matrix"
   ]
  },
  {
   "cell_type": "code",
   "execution_count": null,
   "metadata": {},
   "outputs": [
    {
     "name": "stdout",
     "output_type": "stream",
     "text": [
      "[[0. 0. 0.]\n",
      " [0. 0. 0.]]\n"
     ]
    }
   ],
   "source": [
    "zero-array=np.zeros((2,3))\n",
    "print(zero-array)"
   ]
  },
  {
   "cell_type": "code",
   "execution_count": 17,
   "metadata": {},
   "outputs": [
    {
     "name": "stdout",
     "output_type": "stream",
     "text": [
      "[[[1 1]\n",
      "  [1 1]]\n",
      "\n",
      " [[1 1]\n",
      "  [1 1]]\n",
      "\n",
      " [[1 1]\n",
      "  [1 1]]\n",
      "\n",
      " [[1 1]\n",
      "  [1 1]]]\n",
      "[[99 99]\n",
      " [99 99]]\n",
      "[[54.59669764 71.97703122]\n",
      " [88.25069989 32.71585056]\n",
      " [27.47267744 93.72500673]\n",
      " [38.11548832 29.3882735 ]]\n",
      "[[-3  1  5]\n",
      " [-2 -2  1]\n",
      " [ 4 -4  0]]\n",
      "[[1. 0. 0. 0. 0.]\n",
      " [0. 1. 0. 0. 0.]\n",
      " [0. 0. 1. 0. 0.]\n",
      " [0. 0. 0. 1. 0.]\n",
      " [0. 0. 0. 0. 1.]]\n"
     ]
    }
   ],
   "source": [
    "onesArray=np.ones((4,2,2), dtype='int32')\n",
    "print(onesArray)\n",
    "\n",
    "ninetyNineArray=np.full((2,2), 99)\n",
    "print(ninetyNineArray)\n",
    "\n",
    "randomArray=np.random.rand(4,2)*100\n",
    "print(randomArray)\n",
    "\n",
    "randomIntArray=np.random.randint(-4,8, size=(3,3))\n",
    "print(randomIntArray)\n",
    "\n",
    "identityMatrix=np.eye(5)\n",
    "print(identityMatrix)"
   ]
  },
  {
   "cell_type": "markdown",
   "metadata": {},
   "source": [
    "### 5. Array Mathematics\n",
    "Create array [1,2,3,4] and perform:\n",
    "- Add 2 to each element\n",
    "- Subtract 2 from each element\n",
    "- Multiply each element by 2\n",
    "- Divide each element by 2\n",
    "- Calculate square of each element\n",
    "- Calculate sine of each element\n",
    "- Add two arrays element-wise"
   ]
  },
  {
   "cell_type": "code",
   "execution_count": 19,
   "metadata": {},
   "outputs": [
    {
     "name": "stdout",
     "output_type": "stream",
     "text": [
      "[1 2 3 4]\n",
      "[3 4 5 6]\n",
      "[-1  0  1  2]\n",
      "[2 4 6 8]\n",
      "[0.5 1.  1.5 2. ]\n",
      "[ 1  4  9 16]\n",
      "[ 0.84147098  0.90929743  0.14112001 -0.7568025 ]\n",
      "[5 6 7 8]\n",
      "[ 6  8 10 12]\n"
     ]
    }
   ],
   "source": [
    "arr=np.array([1,2,3,4])\n",
    "print(arr)\n",
    "\n",
    "print(arr+2)\n",
    "\n",
    "print(arr-2)\n",
    "\n",
    "print(arr*2)\n",
    "\n",
    "print(arr/2)\n",
    "\n",
    "print(np.square(arr))\n",
    "\n",
    "print(np.sin(arr))\n",
    "\n",
    "arr2=np.array([5,6,7,8])\n",
    "print(arr2)\n",
    "\n",
    "print(arr+arr2)"
   ]
  },
  {
   "cell_type": "markdown",
   "metadata": {},
   "source": [
    "### 6. Linear Algebra\n",
    "- Create a 2x3 array of ones\n",
    "- Create a 3x2 array filled with 2's\n",
    "- Perform matrix multiplication of these arrays\n",
    "- Create a 3x3 identity matrix and find its determinant"
   ]
  },
  {
   "cell_type": "code",
   "execution_count": 20,
   "metadata": {},
   "outputs": [
    {
     "name": "stdout",
     "output_type": "stream",
     "text": [
      "[[1. 1. 1.]\n",
      " [1. 1. 1.]]\n",
      "[[2 2]\n",
      " [2 2]\n",
      " [2 2]]\n",
      "[[6. 6.]\n",
      " [6. 6.]]\n",
      "[[1. 0. 0.]\n",
      " [0. 1. 0.]\n",
      " [0. 0. 1.]]\n",
      "1.0\n"
     ]
    }
   ],
   "source": [
    "larr=np.ones((2,3))\n",
    "print(larr)\n",
    "\n",
    "larr2=np.full((3,2), 2)\n",
    "print(larr2)\n",
    "\n",
    "print(np.matmul(larr,larr2))\n",
    "\n",
    "identityMatrix=np.eye(3)\n",
    "print(identityMatrix)\n",
    "\n",
    "print(np.linalg.det(identityMatrix))"
   ]
  },
  {
   "cell_type": "markdown",
   "metadata": {},
   "source": [
    "### 7. Statistics\n",
    "Create array [[1,2,3],[4,5,6]] and find:\n",
    "- Minimum value\n",
    "- Maximum value of each row\n",
    "- Sum of each column"
   ]
  },
  {
   "cell_type": "code",
   "execution_count": 23,
   "metadata": {},
   "outputs": [
    {
     "name": "stdout",
     "output_type": "stream",
     "text": [
      "[[1 2 3]\n",
      " [4 5 6]]\n",
      "1\n",
      "[3 6]\n",
      "[5 7 9]\n"
     ]
    }
   ],
   "source": [
    "num=np.array([[1,2,3],[4,5,6]])\n",
    "print(num)\n",
    "\n",
    "print(np.min(num))\n",
    "\n",
    "print(np.max(num, axis=1))\n",
    "\n",
    "print(np.sum(num, axis=0))"
   ]
  },
  {
   "cell_type": "markdown",
   "metadata": {},
   "source": [
    "### 8. Array Manipulation\n",
    "- Create two vectors [1,2,3,4] and [5,6,7,8]\n",
    "- Stack them vertically\n",
    "- Create a 2x4 array of ones and a 2x2 array of zeros\n",
    "- Stack them horizontally"
   ]
  },
  {
   "cell_type": "code",
   "execution_count": 24,
   "metadata": {},
   "outputs": [
    {
     "name": "stdout",
     "output_type": "stream",
     "text": [
      "[1 2 3 4]\n",
      "[5 6 7 8]\n",
      "[[1 2 3 4]\n",
      " [5 6 7 8]]\n",
      "[[1. 1. 1. 1.]\n",
      " [1. 1. 1. 1.]]\n",
      "[[0. 0.]\n",
      " [0. 0.]]\n",
      "[[1. 1. 1. 1. 0. 0.]\n",
      " [1. 1. 1. 1. 0. 0.]]\n"
     ]
    }
   ],
   "source": [
    "arr1=np.array([1,2,3,4])\n",
    "arr2=np.array([5,6,7,8])\n",
    "print(arr1)\n",
    "print(arr2)\n",
    "\n",
    "print(np.vstack((arr1,arr2)))\n",
    "\n",
    "arr3=np.ones((2,4))\n",
    "arr4=np.zeros((2,2))\n",
    "print(arr3)\n",
    "print(arr4)\n",
    "\n",
    "print(np.hstack((arr3,arr4)))"
   ]
  },
  {
   "cell_type": "markdown",
   "metadata": {},
   "source": [
    "### 9. Advanced Exercise: Create a Pattern\n",
    "Create this pattern using NumPy arrays:\n",
    "```\n",
    "[[1. 1. 1. 1. 1.]\n",
    " [1. 0. 0. 0. 1.]\n",
    " [1. 0. 9. 0. 1.]\n",
    " [1. 0. 0. 0. 1.]\n",
    " [1. 1. 1. 1. 1.]]\n",
    "```\n",
    "Hint: Use ones, zeros, and array indexing"
   ]
  },
  {
   "cell_type": "code",
   "execution_count": 26,
   "metadata": {},
   "outputs": [
    {
     "name": "stdout",
     "output_type": "stream",
     "text": [
      "[[1. 1. 1. 1. 1.]\n",
      " [1. 0. 0. 0. 1.]\n",
      " [1. 0. 9. 0. 1.]\n",
      " [1. 0. 0. 0. 1.]\n",
      " [1. 1. 1. 1. 1.]]\n"
     ]
    }
   ],
   "source": [
    "ones=np.ones((5,5))\n",
    "zeroes=np.zeros((3,3))\n",
    "ones[1:4,1:4]=zeroes\n",
    "ones[2,2]=9\n",
    "print(ones)"
   ]
  },
  {
   "cell_type": "code",
   "execution_count": null,
   "metadata": {},
   "outputs": [],
   "source": []
  }
 ],
 "metadata": {
  "kernelspec": {
   "display_name": "numpy-learn",
   "language": "python",
   "name": "python3"
  },
  "language_info": {
   "codemirror_mode": {
    "name": "ipython",
    "version": 3
   },
   "file_extension": ".py",
   "mimetype": "text/x-python",
   "name": "python",
   "nbconvert_exporter": "python",
   "pygments_lexer": "ipython3",
   "version": "3.12.3"
  }
 },
 "nbformat": 4,
 "nbformat_minor": 2
}
